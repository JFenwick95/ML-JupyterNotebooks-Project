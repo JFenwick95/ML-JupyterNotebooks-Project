{
 "cells": [
  {
   "cell_type": "markdown",
   "id": "c117c6a0-6c92-4dfc-bbff-410204f6d829",
   "metadata": {},
   "source": [
    "# C964 Computer Science Capstone\n",
    "## Data Science Salary Prediction\n",
    "### Jeff Fenwick\n",
    "---"
   ]
  },
  {
   "cell_type": "code",
   "execution_count": 1,
   "id": "2fe5e78c-69d3-43e3-a7da-984630b2361a",
   "metadata": {
    "jupyter": {
     "source_hidden": true
    },
    "tags": []
   },
   "outputs": [],
   "source": [
    "%pip install -q ipywidgets\n",
    "\n",
    "import piplite\n",
    "import pandas as pd\n",
    "import matplotlib.pyplot as plt\n",
    "import numpy as np\n",
    "import ipywidgets as widgets\n",
    "await piplite.install(\"ipywidgets\")\n",
    "from sklearn.model_selection import train_test_split\n",
    "from sklearn.linear_model import LinearRegression\n",
    "from sklearn.metrics import mean_squared_error, r2_score\n",
    "from IPython.display import display"
   ]
  },
  {
   "cell_type": "markdown",
   "id": "ce735efd-72b5-417c-89ca-b7aefe762219",
   "metadata": {},
   "source": [
    "### The CSV file containing the data is imported as a data frame with pandas"
   ]
  },
  {
   "cell_type": "code",
   "execution_count": 2,
   "id": "9c4ba3a3-076e-4eb6-95dd-f7a9ef5366de",
   "metadata": {
    "jupyter": {
     "source_hidden": true
    }
   },
   "outputs": [],
   "source": [
    "dataset = pd.read_csv(\"ds_salaries.csv\")"
   ]
  },
  {
   "cell_type": "markdown",
   "id": "c22e186e-c71c-4dea-993c-6457d3bb31a9",
   "metadata": {},
   "source": [
    "*The Salary and Salary Currency columns are removed since there is a Salary in USD column which will be used and makes these columns redundant. The unamed index column should also be removed because it is not needed.*"
   ]
  },
  {
   "cell_type": "code",
   "execution_count": 3,
   "id": "23605296-ea68-468f-96c8-127c4557e042",
   "metadata": {
    "jupyter": {
     "source_hidden": true
    }
   },
   "outputs": [
    {
     "name": "stdout",
     "output_type": "stream",
     "text": [
      "work_year\n",
      "experience_level\n",
      "employment_type\n",
      "job_title\n",
      "salary_in_usd\n",
      "employee_residence\n",
      "remote_ratio\n",
      "company_location\n",
      "company_size\n"
     ]
    }
   ],
   "source": [
    "columns_to_drop = ['salary', 'salary_currency']\n",
    "unnamed_columns_to_drop = [col for col in dataset.columns if 'Unnamed' in col]\n",
    "dataset = dataset.drop(columns=unnamed_columns_to_drop)\n",
    "for column in columns_to_drop:\n",
    "    if column in dataset.columns:\n",
    "        dataset = dataset.drop(columns=[column])\n",
    "for columns in dataset:\n",
    "    print(columns)"
   ]
  },
  {
   "cell_type": "markdown",
   "id": "ce9fdb1c-d13c-4865-bb00-3276f620085b",
   "metadata": {
    "tags": []
   },
   "source": [
    "---\n",
    "### Cleaning the Data\n",
    "\n",
    "The data contains some very high salaries which will affect the visualizations and the algorithm, therefore preprocessing or cleaning the data is necessary. Only the column with salary in USD is used since it is standardized.\n",
    "\n",
    "*This process creates a new data frame that eliminates the ultra-high salaries while keeping all of the lower ones as these don't fall outside of a normal range. The standard quantile modifier of 1.5 is used and can be increased or decreased to allow more or less data into the data frame.*\n",
    "\n",
    "*Originally, I only eliminated the outliers in the salary_in_usd column, but I found it more effective to compare salaries in different columns and filter the outliers by group.*\n",
    "\n",
    "*I wanted just the US company information since the business case involves a US company and I feel this would be more accurate. Because just the US companies were used, there was only 2 pieces of data for PT positions and they were outliers anyway, so I excluded all PT postions from the cleaned data.*\n",
    "\n",
    "This resulted in almost half of the original entries, but a higher accuracy."
   ]
  },
  {
   "cell_type": "code",
   "execution_count": 4,
   "id": "65990f3e-0ec8-4c19-9be4-8676369392e8",
   "metadata": {
    "jupyter": {
     "source_hidden": true
    }
   },
   "outputs": [],
   "source": [
    "def filter_outliers_by_group(dataset, group_column, value_column):\n",
    "    grouped = dataset.groupby(group_column)\n",
    "    filtered_groups = []\n",
    "    for group_name, group_data in grouped:\n",
    "        Q1_value = group_data[value_column].quantile(0.25)\n",
    "        Q3_value = group_data[value_column].quantile(0.75)\n",
    "        IQR_value = Q3_value - Q1_value\n",
    "        lower_bound_value = Q1_value - 1.5 * IQR_value\n",
    "        upper_bound_value = Q3_value + 1.5 * IQR_value\n",
    "        filtered_group = group_data[\n",
    "            (group_data[value_column] >= lower_bound_value) & (group_data[value_column] <= upper_bound_value)\n",
    "        ]\n",
    "\n",
    "        filtered_groups.append(filtered_group)\n",
    "    dataset_filtered = pd.concat(filtered_groups)\n",
    "\n",
    "    return dataset_filtered"
   ]
  },
  {
   "cell_type": "code",
   "execution_count": 5,
   "id": "f8b3328a-4b35-4bd9-af27-e4586aab6af9",
   "metadata": {
    "jupyter": {
     "source_hidden": true
    },
    "tags": []
   },
   "outputs": [
    {
     "name": "stdout",
     "output_type": "stream",
     "text": [
      "Number of entries in the original data: 607\n",
      "Number of entries in the filtered data: 335\n",
      "Difference in entries: 272\n"
     ]
    }
   ],
   "source": [
    "cleaned_dataset = dataset.copy()\n",
    "cleaned_dataset = cleaned_dataset[cleaned_dataset['company_location'] == 'US']\n",
    "cleaned_dataset = cleaned_dataset[cleaned_dataset['employment_type'] != 'PT']\n",
    "\n",
    "cleaned_dataset = filter_outliers_by_group(cleaned_dataset, 'employment_type', 'salary_in_usd')\n",
    "cleaned_dataset = filter_outliers_by_group(cleaned_dataset, 'work_year', 'salary_in_usd')\n",
    "cleaned_dataset = filter_outliers_by_group(cleaned_dataset, 'experience_level', 'salary_in_usd')\n",
    "cleaned_dataset = filter_outliers_by_group(cleaned_dataset, 'employee_residence', 'salary_in_usd')\n",
    "cleaned_dataset = filter_outliers_by_group(cleaned_dataset, 'remote_ratio', 'salary_in_usd')\n",
    "cleaned_dataset = filter_outliers_by_group(cleaned_dataset, 'company_size', 'salary_in_usd')\n",
    "\n",
    "original_length = len(dataset)\n",
    "filtered_length = len(cleaned_dataset)\n",
    "\n",
    "print(f\"Number of entries in the original data: {original_length}\")\n",
    "print(f\"Number of entries in the filtered data: {filtered_length}\")\n",
    "print(f\"Difference in entries: {original_length - filtered_length}\")"
   ]
  },
  {
   "cell_type": "markdown",
   "id": "f2a44aa5-caee-4c9d-babe-eccb899e084f",
   "metadata": {},
   "source": [
    "---\n",
    "### Create Training and Test Sets\n",
    "*Separate features and target variable.*"
   ]
  },
  {
   "cell_type": "code",
   "execution_count": 6,
   "id": "a983348c-10d9-4922-a607-877d4492d205",
   "metadata": {
    "jupyter": {
     "source_hidden": true
    }
   },
   "outputs": [],
   "source": [
    "X = cleaned_dataset[['work_year', 'experience_level', 'employee_residence', 'remote_ratio', 'company_size', \n",
    "                     'employment_type']]\n",
    "y = cleaned_dataset['salary_in_usd']"
   ]
  },
  {
   "cell_type": "markdown",
   "id": "f8a567fc-3e48-4ee7-984f-45e6cc4c73eb",
   "metadata": {},
   "source": [
    "*Convert categorical variables into dummy/indicator variables.*"
   ]
  },
  {
   "cell_type": "code",
   "execution_count": 7,
   "id": "1cc01335-b19c-4490-97aa-bdb865588be4",
   "metadata": {
    "jupyter": {
     "source_hidden": true
    }
   },
   "outputs": [],
   "source": [
    "X = pd.get_dummies(X, columns=['experience_level', 'employee_residence', 'remote_ratio', 'company_size', \n",
    "                               'employment_type'])"
   ]
  },
  {
   "cell_type": "markdown",
   "id": "55889477-37fa-4242-8c3e-54ee0bb22f2c",
   "metadata": {},
   "source": [
    "*Split the dataset into training and testing sets. The random state is seeded to reproduce scenario for validity.*"
   ]
  },
  {
   "cell_type": "code",
   "execution_count": 8,
   "id": "04fe1e5b-3e0f-4b01-87d8-1ea675a8c685",
   "metadata": {
    "jupyter": {
     "source_hidden": true
    }
   },
   "outputs": [],
   "source": [
    "X_train, X_test, y_train, y_test = train_test_split(X, y, test_size=0.2, random_state=1)"
   ]
  },
  {
   "cell_type": "markdown",
   "id": "6201ec1d-be1a-44ea-93bd-b948b1b7bb3e",
   "metadata": {},
   "source": [
    "---\n",
    "## First Visualization\n",
    "### Histogram of Salary Ranges"
   ]
  },
  {
   "cell_type": "code",
   "execution_count": 9,
   "id": "f545c0f4-715c-43b2-b274-f34875154dae",
   "metadata": {
    "jupyter": {
     "source_hidden": true
    }
   },
   "outputs": [
    {
     "data": {
      "image/png": "[encoded data removed]",
      "text/plain": [
       "<Figure size 800x600 with 1 Axes>"
      ]
     },
     "metadata": {},
     "output_type": "display_data"
    }
   ],
   "source": [
    "num_bins = 20\n",
    "plt.figure(figsize=(8,6))\n",
    "plt.hist(cleaned_dataset['salary_in_usd'], bins=num_bins, color='blue', edgecolor='black', alpha=0.7)\n",
    "plt.xlabel('Salary in USD')\n",
    "plt.ylabel('Number of Employees')\n",
    "plt.title('Data Scientist Salary Ranges')\n",
    "plt.show()"
   ]
  },
  {
   "cell_type": "markdown",
   "id": "487b965a-293d-44b8-beb5-bc304f668bf9",
   "metadata": {},
   "source": [
    "---\n",
    "## Second Visualization\n",
    "### Scatterplot of Experience vs. Salary\n",
    "*There are only 4 unique values for experience: EN (entry), MI (middle), SE (senior), EX (expert). The important information is the regression line which shows a direct correlation between experience and salary.*"
   ]
  },
  {
   "cell_type": "code",
   "execution_count": 10,
   "id": "18c62f32-5e3a-4585-a26b-6d166a0c75c6",
   "metadata": {
    "jupyter": {
     "source_hidden": true
    },
    "tags": []
   },
   "outputs": [
    {
     "data": {
      "image/png": "[encoded data removed]",
      "text/plain": [
       "<Figure size 800x600 with 1 Axes>"
      ]
     },
     "metadata": {},
     "output_type": "display_data"
    }
   ],
   "source": [
    "lvl_of_experience = {'EN': 1, 'MI': 2, 'SE': 3, 'EX': 4}\n",
    "cleaned_dataset_copy = cleaned_dataset.copy()\n",
    "cleaned_dataset_copy['Level of Experience'] = cleaned_dataset_copy['experience_level'].map(lvl_of_experience)\n",
    "plt.figure(figsize=(8, 6))\n",
    "plt.scatter(cleaned_dataset_copy['Level of Experience'], cleaned_dataset_copy['salary_in_usd'], \n",
    "            alpha=0.5, color='blue', edgecolors='black', s=1)\n",
    "plt.xlabel('Experience Level')\n",
    "plt.ylabel('Salary')\n",
    "plt.title('Experience vs. Salary')\n",
    "plt.xticks([1, 2, 3, 4], ['EN', 'MI', 'SE', 'EX'])\n",
    "least_squares_polynomial_fit = np.polyfit(cleaned_dataset_copy['Level of Experience'], \n",
    "                                          cleaned_dataset_copy['salary_in_usd'], 1)\n",
    "regression_line = np.polyval(least_squares_polynomial_fit, [1, 2, 3, 4])\n",
    "plt.plot([1, 2, 3, 4], regression_line, 'r', linewidth=2)\n",
    "plt.show()"
   ]
  },
  {
   "cell_type": "markdown",
   "id": "32f86bc1-1a2f-4743-9f31-0abd412e4e8e",
   "metadata": {},
   "source": [
    "---\n",
    "## Third Visualization\n",
    "### Bar chart of average salary in different company sizes (small, medium, and large)\n",
    "*Average is calculated from the cleaned dataset.*\n",
    "\n",
    "This visualization shows almost no difference in pay between medium and large companies, but smaller companies have significantly less average pay."
   ]
  },
  {
   "cell_type": "code",
   "execution_count": 11,
   "id": "25be8273-3e21-415b-a5fd-acd111294882",
   "metadata": {
    "jupyter": {
     "source_hidden": true
    },
    "tags": []
   },
   "outputs": [
    {
     "data": {
      "image/png": "[encoded data removed]",
      "text/plain": [
       "<Figure size 800x600 with 1 Axes>"
      ]
     },
     "metadata": {},
     "output_type": "display_data"
    }
   ],
   "source": [
    "average_salaries = cleaned_dataset.groupby('company_size')['salary_in_usd'].mean().sort_values()\n",
    "plt.figure(figsize=(8, 6))\n",
    "bar_plot = average_salaries.plot(kind='bar', color='blue', edgecolor='black')\n",
    "for idx, value in enumerate(average_salaries):\n",
    "    formatted_value = '${:,.0f}'.format(value)\n",
    "    bar_plot.text(idx, value + 1000, formatted_value, ha='center', va='bottom', color='black')\n",
    "plt.xlabel('Company Size')\n",
    "plt.ylabel('Average Salary')\n",
    "plt.title('Average Salary in Different Company Sizes')\n",
    "plt.xticks(range(len(average_salaries)), ['Small', 'Medium', 'Large'], rotation=1)\n",
    "plt.show()"
   ]
  },
  {
   "cell_type": "markdown",
   "id": "c7602c9f-8d6a-47a5-9a0e-255f00f02538",
   "metadata": {},
   "source": [
    "---\n",
    "### Multiple linear regression model\n",
    "\n",
    "*This model features multiple variables. There is an accuracy measure with the MSE score (mean squared error) and the R2 score (r-squared). These are fairly low scores, so this model is not very accurate, but it will scale and gain accuracy with more data. 330 entries (even 600 entries) is not enough to be very accurrate, but it provides a base that can easily be improved with more data.*"
   ]
  },
  {
   "cell_type": "code",
   "execution_count": 12,
   "id": "7ad8f641-b3f9-455f-90a2-85290abdd54f",
   "metadata": {
    "jupyter": {
     "source_hidden": true
    }
   },
   "outputs": [
    {
     "name": "stdout",
     "output_type": "stream",
     "text": [
      "Mean Squared Error: 1550469076.9104478\n",
      "R-squared: 0.18784006323455005\n",
      "Intercept: 4.874839519787066e+16\n",
      "Coefficients:\n",
      "                  Feature   Coefficient\n",
      "0               work_year  4.636993e+03\n",
      "1     experience_level_EN  2.763510e+18\n",
      "2     experience_level_EX  2.763510e+18\n",
      "3     experience_level_MI  2.763510e+18\n",
      "4     experience_level_SE  2.763510e+18\n",
      "5   employee_residence_BG -3.599843e+18\n",
      "6   employee_residence_BO -3.599843e+18\n",
      "7   employee_residence_BR -3.599843e+18\n",
      "8   employee_residence_CA -3.599843e+18\n",
      "9   employee_residence_DE -3.599843e+18\n",
      "10  employee_residence_ES -3.599843e+18\n",
      "11  employee_residence_FR -3.599843e+18\n",
      "12  employee_residence_GR -3.599843e+18\n",
      "13  employee_residence_HU -3.599843e+18\n",
      "14  employee_residence_IN -3.599843e+18\n",
      "15  employee_residence_IT -3.599843e+18\n",
      "16  employee_residence_MY -3.599843e+18\n",
      "17  employee_residence_PH -3.599843e+18\n",
      "18  employee_residence_PR -3.599843e+18\n",
      "19  employee_residence_PT -3.599843e+18\n",
      "20  employee_residence_RO -3.599843e+18\n",
      "21  employee_residence_RU -3.599843e+18\n",
      "22  employee_residence_US -3.599843e+18\n",
      "23  employee_residence_VN -3.599843e+18\n",
      "24         remote_ratio_0  1.362147e+18\n",
      "25        remote_ratio_50  1.362147e+18\n",
      "26       remote_ratio_100  1.362147e+18\n",
      "27         company_size_L -8.973254e+17\n",
      "28         company_size_M -8.973254e+17\n",
      "29         company_size_S -8.973254e+17\n",
      "30     employment_type_CT  3.227622e+17\n",
      "31     employment_type_FL  3.227622e+17\n",
      "32     employment_type_FT  3.227622e+17\n"
     ]
    }
   ],
   "source": [
    "model = LinearRegression()\n",
    "model.fit(X_train, y_train)\n",
    "y_pred = model.predict(X_test)\n",
    "\n",
    "mse = mean_squared_error(y_test, y_pred)\n",
    "r2 = r2_score(y_test, y_pred)\n",
    "\n",
    "print(f\"Mean Squared Error: {mse}\")\n",
    "print(f\"R-squared: {r2}\")\n",
    "\n",
    "coefficients = pd.DataFrame({'Feature': X.columns, 'Coefficient': model.coef_})\n",
    "intercept = model.intercept_\n",
    "\n",
    "print(\"Intercept:\", intercept)\n",
    "print(\"Coefficients:\")\n",
    "print(coefficients)"
   ]
  },
  {
   "cell_type": "markdown",
   "id": "6203cdce-60ec-42a5-bef9-219c06598a1e",
   "metadata": {},
   "source": [
    "---\n",
    "### The following code provides a frame of reference for the accuracy of the data. \n",
    "*Changing the random seed will yield different data points but similar accuracy.*"
   ]
  },
  {
   "cell_type": "code",
   "execution_count": 13,
   "id": "1e5085d9-a5b6-4b04-9b78-a6032cf3f827",
   "metadata": {
    "jupyter": {
     "source_hidden": true
    },
    "tags": []
   },
   "outputs": [
    {
     "name": "stdout",
     "output_type": "stream",
     "text": [
      "Frame of Reference for Test Set Predictions:\n",
      "       Actual Predicted Difference\n",
      "206  $200,000  $167,168    $32,832\n",
      "170  $170,000  $130,304    $39,696\n",
      "540  $115,934  $146,432   $-30,498\n",
      "577  $150,075  $146,432     $3,643\n",
      "302  $146,000  $146,432      $-432\n",
      "407  $183,600  $171,776    $11,824\n",
      "323  $180,000  $168,704    $11,296\n",
      "305   $99,000  $143,360   $-44,360\n",
      "570  $210,000  $146,432    $63,568\n",
      "556  $145,000  $146,432    $-1,432\n",
      "604  $129,000  $143,360   $-14,360\n",
      "465  $120,000   $93,696    $26,304\n",
      "103   $62,000  $127,232   $-65,232\n",
      "341   $93,700  $146,432   $-52,732\n",
      "484  $210,000  $146,432    $63,568\n",
      "582  $220,110  $146,432    $73,678\n",
      "256  $200,000  $130,304    $69,696\n",
      "372  $164,996  $143,360    $21,636\n",
      "454  $125,000   $90,624    $34,376\n",
      "555  $160,000  $146,432    $13,568\n"
     ]
    }
   ],
   "source": [
    "result_df = pd.DataFrame({'Actual': y_test, 'Predicted': y_pred})\n",
    "result_df['Difference'] = result_df['Actual'] - result_df['Predicted']\n",
    "result_df['Actual'] = result_df['Actual'].map(\"${:,.0f}\".format)\n",
    "result_df['Predicted'] = result_df['Predicted'].map(\"${:,.0f}\".format)\n",
    "result_df['Difference'] = result_df['Difference'].map(\"${:,.0f}\".format)\n",
    "print(\"Frame of Reference for Test Set Predictions:\")\n",
    "print(result_df.head(20))  "
   ]
  },
  {
   "cell_type": "markdown",
   "id": "ea116cf0-2d60-43d9-8896-87880ffe6703",
   "metadata": {},
   "source": [
    "---\n",
    "### User Interface\n",
    "*Select options from the slider and dropdowns, then click the \"Predict Salary\" button."
   ]
  },
  {
   "cell_type": "code",
   "execution_count": 15,
   "id": "ecb0efae-6190-4cda-8ebe-694394ae449a",
   "metadata": {
    "jupyter": {
     "source_hidden": true
    },
    "tags": []
   },
   "outputs": [
    {
     "data": {
      "application/vnd.jupyter.widget-view+json": {
       "model_id": "cde8101047844d9e8ca0b469e16c529e",
       "version_major": 2,
       "version_minor": 0
      },
      "text/plain": [
       "VBox(children=(VBox(children=(IntSlider(value=2024, description='Work Year:', max=2025, min=2023, style=Slider…"
      ]
     },
     "metadata": {},
     "output_type": "display_data"
    }
   ],
   "source": [
    "def create_dropdown_widget(column_values, description):\n",
    "    unique_values = sorted(column_values.unique())\n",
    "    dropdown_widget = widgets.Dropdown(options=unique_values, value=unique_values[0], description=description, style=style)\n",
    "    return dropdown_widget\n",
    "\n",
    "\n",
    "style = {'description_width': 'initial'}\n",
    "\n",
    "work_year_widget = widgets.IntSlider(value=2024, min=2023, max=2025, step=1, description='Work Year:', style=style)\n",
    "experience_level_widget = widgets.Dropdown(options=['EN', 'MI', 'SE', 'EX'], value='EN', \n",
    "                                           description='Experience Level: (EN)try, (MI)d, (SE)nior, (EX)pert', style=style)\n",
    "employee_residence_widget = create_dropdown_widget(cleaned_dataset['employee_residence'], \n",
    "                                                   description='Employee Residence: (alpha-2 code)')\n",
    "remote_ratio_widget = create_dropdown_widget(cleaned_dataset['remote_ratio'], description='Remote Ratio (%):')\n",
    "company_size_widget = widgets.Dropdown(options=['S', 'M', 'L'], value='S', description='Company Size: (S)mall, (M)edium, (L)arge', style=style)\n",
    "employment_type_widget = widgets.Dropdown(options=['FT', 'CT', 'FL'], value='FT', \n",
    "                                          description='Employment Type: (FT) Full Time, (CT) Contract, (FL) Freelance', style=style)\n",
    "\n",
    "experience_level_widget.layout.width = '40%'\n",
    "employee_residence_widget.layout.width = '40%'\n",
    "remote_ratio_widget.layout.width = '40%'\n",
    "company_size_widget.layout.width = '40%'\n",
    "employment_type_widget.layout.width = '40%'\n",
    "\n",
    "output_widget = widgets.Output(layout={'border': '1px solid black'})\n",
    "\n",
    "predict_button = widgets.Button(description='Predict Salary')\n",
    "\n",
    "with output_widget:\n",
    "        print('Predicted Salary:')\n",
    "        \n",
    "def on_predict_button_click(b):\n",
    "    with output_widget:\n",
    "        output_widget.clear_output()\n",
    "        work_year = work_year_widget.value\n",
    "        experience_level = experience_level_widget.value\n",
    "        employee_residence = employee_residence_widget.value\n",
    "        remote_ratio = remote_ratio_widget.value\n",
    "        company_size = company_size_widget.value\n",
    "        employment_type = employment_type_widget.value\n",
    "        \n",
    "        user_input = pd.DataFrame({\n",
    "            'work_year': [work_year],\n",
    "            'experience_level': [experience_level],\n",
    "            'employee_residence': [employee_residence],\n",
    "            'remote_ratio': [remote_ratio],\n",
    "            'company_size': [company_size],\n",
    "            'employment_type': [employment_type]\n",
    "        })\n",
    "        \n",
    "        user_input = pd.get_dummies(user_input, columns=['experience_level', 'employee_residence', 'remote_ratio', \n",
    "                                                         'company_size', 'employment_type'])\n",
    "        missing_columns = set(X.columns) - set(user_input.columns)\n",
    "        for col in missing_columns:\n",
    "            user_input[col] = False\n",
    "        common_columns = list(set(X.columns) & set(user_input.columns))\n",
    "        columns_sorted = sorted(common_columns, key=lambda x: X.columns.get_loc(x))    \n",
    "        user_input_sorted = user_input[columns_sorted]\n",
    "        \n",
    "        predicted_salary = model.predict(user_input_sorted)[0]\n",
    "        \n",
    "        print(f'Predicted Salary: ${predicted_salary:,.0f}')\n",
    "        \n",
    "predict_button.on_click(on_predict_button_click)\n",
    "        \n",
    "input_widgets = [work_year_widget, experience_level_widget, employee_residence_widget, remote_ratio_widget, company_size_widget, \n",
    "                 employment_type_widget]\n",
    "\n",
    "input_box = widgets.VBox(input_widgets, layout=widgets.Layout(display='flex', flex_flow='column', align_items='stretch', margin='0 0 30px 0'))\n",
    "\n",
    "button_box = widgets.VBox([predict_button], layout=widgets.Layout(display='flex', flex_flow='column', align_items='stretch', margin='0 0 30px 0'))\n",
    "\n",
    "layout = widgets.VBox([input_box, button_box, output_widget], \n",
    "                              layout=widgets.Layout(display='flex', flex_flow='column', align_items='stretch', padding='10px'))\n",
    "\n",
    "display(layout)"
   ]
  },
  {
   "cell_type": "code",
   "execution_count": null,
   "id": "f4564ceb-0af2-46cb-83b7-245573d1c26a",
   "metadata": {
    "jupyter": {
     "source_hidden": true
    }
   },
   "outputs": [],
   "source": []
  }
 ],
 "metadata": {
  "kernelspec": {
   "display_name": "Python 3 (ipykernel)",
   "language": "python",
   "name": "python3"
  },
  "language_info": {
   "codemirror_mode": {
    "name": "ipython",
    "version": 3
   },
   "file_extension": ".py",
   "mimetype": "text/x-python",
   "name": "python",
   "nbconvert_exporter": "python",
   "pygments_lexer": "ipython3",
   "version": "3.11.5"
  }
 },
 "nbformat": 4,
 "nbformat_minor": 5
}
